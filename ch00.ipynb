{
 "cells": [
  {
   "cell_type": "markdown",
   "id": "438bc531",
   "metadata": {},
   "source": [
    "# AND연산을 활용한 머신러닝 \n",
    "\n",
    "y = aX + b\n",
    "- a: 기울기(coef_, weight)\n",
    "- b: 절편(intercept_, bias)"
   ]
  },
  {
   "cell_type": "code",
   "execution_count": 4,
   "id": "9f74e18d",
   "metadata": {},
   "outputs": [],
   "source": [
    "import numpy as np"
   ]
  },
  {
   "cell_type": "code",
   "execution_count": null,
   "id": "953fc0c4",
   "metadata": {},
   "outputs": [],
   "source": [
    "#데이터를 가져옴\n",
    "X = np.array([[0, 0], [0, 1], [1, 0], [1, 1]])\n",
    "y = np.array([0, 0, 0, 1])"
   ]
  },
  {
   "cell_type": "code",
   "execution_count": 54,
   "id": "ee2a14b6",
   "metadata": {},
   "outputs": [],
   "source": [
    "weight = np.random.randn(2) #빈괄호: 상수, #(숫자): 배열 ##기울기가 2개가 필요하니까\n",
    "bias = np.random.randn()\n",
    "learning_rate = 0.1\n",
    "epochs = 100"
   ]
  },
  {
   "cell_type": "code",
   "execution_count": null,
   "id": "9bda9e80",
   "metadata": {},
   "outputs": [
    {
     "name": "stdout",
     "output_type": "stream",
     "text": [
      "0, 0.2500\n",
      "10, 0.5000\n",
      "20, 1.0000\n",
      "30, 1.0000\n",
      "40, 1.0000\n",
      "50, 1.0000\n",
      "60, 1.0000\n",
      "70, 1.0000\n",
      "80, 1.0000\n",
      "90, 1.0000\n"
     ]
    }
   ],
   "source": [
    "#학습\n",
    "for epoch in range(epochs):\n",
    "    z = np.dot(X, weight) + bias\n",
    "    predictions = np.where( z >= 0, 1, 0) #예측값 #0보다 크면 1, 작으면 0\n",
    "    errors = y - predictions #오차\n",
    "    weight += learning_rate * np.dot(X.T, errors) #learning_rate를 통해 기울기를 조금씩 고침\n",
    "    bias += learning_rate * np.sum(errors)\n",
    "    accuracy = np.mean(predictions == y)\n",
    "    if epoch % 10 == 0:\n",
    "        print(f\"{epoch}, {accuracy:.4f}\")"
   ]
  },
  {
   "cell_type": "code",
   "execution_count": null,
   "id": "26823adb",
   "metadata": {},
   "outputs": [
    {
     "name": "stdout",
     "output_type": "stream",
     "text": [
      "[0.10516384 0.13306338] -0.15213611900629212\n"
     ]
    }
   ],
   "source": [
    "#모델(가중치를 파일로 남긴)\n",
    "print(weight, bias)"
   ]
  },
  {
   "cell_type": "code",
   "execution_count": 57,
   "id": "d7977f2a",
   "metadata": {},
   "outputs": [
    {
     "name": "stdout",
     "output_type": "stream",
     "text": [
      "[0 0], 0, 0\n",
      "[0 1], 0, 0\n",
      "[1 0], 0, 0\n",
      "[1 1], 1, 1\n"
     ]
    }
   ],
   "source": [
    "for i in range(len(X)):\n",
    "    z = np.dot(X[i], weight) + bias\n",
    "    prediction = 1 if z >= 0 else 0\n",
    "    print(f\"{X[i]}, {prediction}, {y[i]}\")"
   ]
  }
 ],
 "metadata": {
  "kernelspec": {
   "display_name": "Python 3",
   "language": "python",
   "name": "python3"
  },
  "language_info": {
   "codemirror_mode": {
    "name": "ipython",
    "version": 3
   },
   "file_extension": ".py",
   "mimetype": "text/x-python",
   "name": "python",
   "nbconvert_exporter": "python",
   "pygments_lexer": "ipython3",
   "version": "3.9.13"
  }
 },
 "nbformat": 4,
 "nbformat_minor": 5
}
